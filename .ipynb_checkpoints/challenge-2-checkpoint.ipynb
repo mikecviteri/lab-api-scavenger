{
 "cells": [
  {
   "cell_type": "markdown",
   "metadata": {},
   "source": [
    "#### 2. Count how many commits were made in the past week."
   ]
  },
  {
   "cell_type": "code",
   "execution_count": 73,
   "metadata": {},
   "outputs": [],
   "source": [
    "from github import Github\n",
    "import requests\n",
    "import json\n",
    "import time\n",
    "from numpy import random\n",
    "import re\n",
    "from datetime import date"
   ]
  },
  {
   "cell_type": "code",
   "execution_count": 3,
   "metadata": {},
   "outputs": [],
   "source": [
    "# Import personal access token as 'g'"
   ]
  },
  {
   "cell_type": "code",
   "execution_count": 4,
   "metadata": {},
   "outputs": [],
   "source": [
    "lab_repo = requests.get(\"https://api.github.com/repos/ironhack-datalabs/datamex0120\")"
   ]
  },
  {
   "cell_type": "code",
   "execution_count": 200,
   "metadata": {},
   "outputs": [],
   "source": [
    "commit_url = requests.get('https://api.github.com/repos/ironhack-datalabs/datamex0120/commits')"
   ]
  },
  {
   "cell_type": "code",
   "execution_count": 201,
   "metadata": {},
   "outputs": [],
   "source": [
    "content = commit_url.json()"
   ]
  },
  {
   "cell_type": "code",
   "execution_count": 202,
   "metadata": {},
   "outputs": [
    {
     "data": {
      "text/plain": [
       "1"
      ]
     },
     "execution_count": 202,
     "metadata": {},
     "output_type": "execute_result"
    }
   ],
   "source": [
    "len(content)"
   ]
  },
  {
   "cell_type": "code",
   "execution_count": 225,
   "metadata": {},
   "outputs": [
    {
     "data": {
      "text/plain": [
       "['2020-01-06T16:34:12Z YonatanRA']"
      ]
     },
     "execution_count": 225,
     "metadata": {},
     "output_type": "execute_result"
    }
   ],
   "source": [
    "commits = [content[i]['commit']['author']['date'] + ' ' + content[i]['commit']['author']['name'] for i in range(len(content))]\n",
    "commits"
   ]
  },
  {
   "cell_type": "code",
   "execution_count": 167,
   "metadata": {},
   "outputs": [
    {
     "data": {
      "text/plain": [
       "'2020-11-15'"
      ]
     },
     "execution_count": 167,
     "metadata": {},
     "output_type": "execute_result"
    }
   ],
   "source": [
    "today = date.today().strftime(\"%Y-%m-%d\")\n",
    "today"
   ]
  },
  {
   "cell_type": "code",
   "execution_count": 242,
   "metadata": {},
   "outputs": [
    {
     "name": "stdout",
     "output_type": "stream",
     "text": [
      "0 commited within one week: \n",
      " []\n",
      "1 commited more than one week ago: \n",
      " ['YonatanRA @ 2020-01-06 (314 days ago)']\n"
     ]
    }
   ],
   "source": [
    "week_commits = list()\n",
    "week_names = list()\n",
    "week_days = list()\n",
    "other_commits = list()\n",
    "other_names = list()\n",
    "other_days = list()\n",
    "\n",
    "for i in commits:\n",
    "    for j in re.findall('\\d*-\\d*-\\d*',i):\n",
    "        name = re.findall(' .*',i)\n",
    "        for elem in name:\n",
    "            name_clean = elem.strip()\n",
    "            x = re.findall('^[\\d]*',str(datetime.datetime(*map(int, today.split('-')))\\\n",
    "                                          -datetime.datetime(*map(int, j.split('-')))))\n",
    "            for k in x:\n",
    "                if int(k) <= 7:\n",
    "                    week_commits.append(j)\n",
    "                    week_names.append(name_clean)\n",
    "                    other_days.append(k)\n",
    "                else:\n",
    "                    other_commits.append(j)\n",
    "                    other_names.append(name_clean)\n",
    "                    other_days.append(k)\n",
    "\n",
    "week = [f\"{elem[0]} @ {elem[1]} ({elem[2]} days ago)\" for elem in list(zip(week_names, week_commits, week_days))]              \n",
    "other = [f\"{elem[0]} @ {elem[1]} ({elem[2]} days ago)\" for elem in list(zip(other_names, other_commits, other_days))] \n",
    "               \n",
    "print(f\"{len(week)} commited within one week: \\n {week}\")\n",
    "print(f\"{len(other)} commited more than one week ago: \\n {other}\")"
   ]
  },
  {
   "cell_type": "code",
   "execution_count": null,
   "metadata": {},
   "outputs": [],
   "source": []
  }
 ],
 "metadata": {
  "kernelspec": {
   "display_name": "Python 3",
   "language": "python",
   "name": "python3"
  },
  "language_info": {
   "codemirror_mode": {
    "name": "ipython",
    "version": 3
   },
   "file_extension": ".py",
   "mimetype": "text/x-python",
   "name": "python",
   "nbconvert_exporter": "python",
   "pygments_lexer": "ipython3",
   "version": "3.8.3"
  }
 },
 "nbformat": 4,
 "nbformat_minor": 4
}
