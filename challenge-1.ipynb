{
 "cells": [
  {
   "cell_type": "markdown",
   "metadata": {},
   "source": [
    "#### 1. Find out how many programming languages are used among all the forks created from the main lab repo of your bootcamp."
   ]
  },
  {
   "cell_type": "code",
   "execution_count": 1,
   "metadata": {},
   "outputs": [],
   "source": [
    "from github import Github\n",
    "import requests\n",
    "import json\n",
    "import time\n",
    "from numpy import random"
   ]
  },
  {
   "cell_type": "code",
   "execution_count": 16,
   "metadata": {},
   "outputs": [],
   "source": [
    "# Import personal access token as 'g'"
   ]
  },
  {
   "cell_type": "code",
   "execution_count": 27,
   "metadata": {},
   "outputs": [],
   "source": [
    "# GET /repos/:owner/:repo\n",
    "lab_repo = requests.get(\"https://api.github.com/repos/ironhack-datalabs/datamex0120\")"
   ]
  },
  {
   "cell_type": "code",
   "execution_count": 150,
   "metadata": {},
   "outputs": [
    {
     "data": {
      "text/plain": [
       "15"
      ]
     },
     "execution_count": 150,
     "metadata": {},
     "output_type": "execute_result"
    }
   ],
   "source": [
    "# Total number of forks\n",
    "lab_repo.json()['forks']"
   ]
  },
  {
   "cell_type": "code",
   "execution_count": 36,
   "metadata": {},
   "outputs": [],
   "source": [
    "# Getting the URL of the forks from my bootcamp main branch\n",
    "forks = requests.get('https://api.github.com/repos/ironhack-datalabs/datamex0120/forks')"
   ]
  },
  {
   "cell_type": "code",
   "execution_count": 51,
   "metadata": {},
   "outputs": [],
   "source": [
    "# json content from all of those forks\n",
    "content = forks.json()"
   ]
  },
  {
   "cell_type": "code",
   "execution_count": 57,
   "metadata": {},
   "outputs": [],
   "source": [
    "# Getting the path repo from all of the forks\n",
    "forks_list = list()\n",
    "\n",
    "for i in range(len(content)):\n",
    "    forks_list.append(content[i].get('full_name'))"
   ]
  },
  {
   "cell_type": "code",
   "execution_count": 60,
   "metadata": {},
   "outputs": [
    {
     "data": {
      "text/plain": [
       "['seprab/datamex0120',\n",
       " 'SaulMonzalvoRojas/datamex0120',\n",
       " 'axme100/datamex0120',\n",
       " 'ta-data-mex/datamex0120',\n",
       " 'vannia/datamex0120',\n",
       " 'rubenperez1982/datamex0120',\n",
       " 'hatchdavid1/datamex0120',\n",
       " 'ArturoQR/datamex0120',\n",
       " 'YonatanRA/datamex0120',\n",
       " 'jibo16/datamex0120',\n",
       " 'juliocrn94/datamex0120',\n",
       " 'albertoid/datamex0120',\n",
       " 'rossberto/datamex0120']"
      ]
     },
     "execution_count": 60,
     "metadata": {},
     "output_type": "execute_result"
    }
   ],
   "source": [
    "forks_list"
   ]
  },
  {
   "cell_type": "code",
   "execution_count": 166,
   "metadata": {},
   "outputs": [],
   "source": [
    "# Looping through each fork to determine what language were used among each fork\n",
    "languages_list = []\n",
    "\n",
    "for i in forks_list:\n",
    "    time.sleep(random.randint(1, 10))\n",
    "    content = requests.get(f\"https://api.github.com/repos/{i}/languages\")\n",
    "    languages_list.append(list(content.json().keys()))"
   ]
  },
  {
   "cell_type": "code",
   "execution_count": 168,
   "metadata": {},
   "outputs": [
    {
     "data": {
      "text/plain": [
       "[['Jupyter Notebook', 'HTML', 'Python'],\n",
       " ['Jupyter Notebook', 'HTML', 'Python'],\n",
       " ['Jupyter Notebook', 'HTML', 'Python', 'Shell'],\n",
       " ['Jupyter Notebook', 'HTML', 'Python'],\n",
       " ['Jupyter Notebook', 'HTML', 'Python'],\n",
       " ['Jupyter Notebook', 'HTML', 'Python'],\n",
       " ['Jupyter Notebook', 'HTML', 'Python'],\n",
       " ['Jupyter Notebook', 'HTML', 'Python'],\n",
       " ['Jupyter Notebook', 'HTML', 'Python'],\n",
       " ['Jupyter Notebook', 'HTML', 'Python'],\n",
       " ['Jupyter Notebook', 'HTML', 'Python'],\n",
       " ['Jupyter Notebook', 'HTML', 'Python'],\n",
       " ['Jupyter Notebook', 'HTML', 'Python']]"
      ]
     },
     "execution_count": 168,
     "metadata": {},
     "output_type": "execute_result"
    }
   ],
   "source": [
    "languages_list"
   ]
  },
  {
   "cell_type": "code",
   "execution_count": 179,
   "metadata": {},
   "outputs": [
    {
     "data": {
      "text/plain": [
       "['HTML', 'Shell', 'Python', 'Jupyter Notebook']"
      ]
     },
     "execution_count": 179,
     "metadata": {},
     "output_type": "execute_result"
    }
   ],
   "source": [
    "# Flattening the language list\n",
    "result = list(set(lang for langs in languages_list for lang in langs))\n",
    "result"
   ]
  }
 ],
 "metadata": {
  "kernelspec": {
   "display_name": "Python 3",
   "language": "python",
   "name": "python3"
  },
  "language_info": {
   "codemirror_mode": {
    "name": "ipython",
    "version": 3
   },
   "file_extension": ".py",
   "mimetype": "text/x-python",
   "name": "python",
   "nbconvert_exporter": "python",
   "pygments_lexer": "ipython3",
   "version": "3.8.3"
  }
 },
 "nbformat": 4,
 "nbformat_minor": 4
}
