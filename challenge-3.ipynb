{
 "cells": [
  {
   "cell_type": "markdown",
   "metadata": {},
   "source": [
    "#### 3. Find out the cold joke contained in the 24 secret files"
   ]
  },
  {
   "cell_type": "code",
   "execution_count": 37,
   "metadata": {},
   "outputs": [],
   "source": [
    "import requests \n",
    "from github import Github"
   ]
  },
  {
   "cell_type": "code",
   "execution_count": 21,
   "metadata": {},
   "outputs": [],
   "source": [
    "#Import personal access token as 'g'"
   ]
  },
  {
   "cell_type": "code",
   "execution_count": 25,
   "metadata": {},
   "outputs": [],
   "source": [
    "repo = g.get_repo('ironhack-datalabs/scavenger')"
   ]
  },
  {
   "cell_type": "code",
   "execution_count": 29,
   "metadata": {},
   "outputs": [
    {
     "data": {
      "text/plain": [
       "[ContentFile(path=\".gitignore\"),\n",
       " ContentFile(path=\"15024\"),\n",
       " ContentFile(path=\"15534\"),\n",
       " ContentFile(path=\"17020\"),\n",
       " ContentFile(path=\"30351\"),\n",
       " ContentFile(path=\"40303\"),\n",
       " ContentFile(path=\"44639\"),\n",
       " ContentFile(path=\"45525\"),\n",
       " ContentFile(path=\"47222\"),\n",
       " ContentFile(path=\"47830\"),\n",
       " ContentFile(path=\"49418\"),\n",
       " ContentFile(path=\"50896\"),\n",
       " ContentFile(path=\"55417\"),\n",
       " ContentFile(path=\"55685\"),\n",
       " ContentFile(path=\"60224\"),\n",
       " ContentFile(path=\"64880\"),\n",
       " ContentFile(path=\"66032\"),\n",
       " ContentFile(path=\"68848\"),\n",
       " ContentFile(path=\"70751\"),\n",
       " ContentFile(path=\"70985\"),\n",
       " ContentFile(path=\"88596\"),\n",
       " ContentFile(path=\"89046\"),\n",
       " ContentFile(path=\"89338\"),\n",
       " ContentFile(path=\"91701\"),\n",
       " ContentFile(path=\"97881\"),\n",
       " ContentFile(path=\"98750\")]"
      ]
     },
     "execution_count": 29,
     "metadata": {},
     "output_type": "execute_result"
    }
   ],
   "source": [
    "contents = repo.get_contents(\"\")\n",
    "contents"
   ]
  },
  {
   "cell_type": "code",
   "execution_count": 44,
   "metadata": {},
   "outputs": [
    {
     "data": {
      "text/plain": [
       "['15024/.0006.scavengerhunt',\n",
       " '15534/.0008.scavengerhunt',\n",
       " '15534/.0012.scavengerhunt',\n",
       " '17020/.0007.scavengerhunt',\n",
       " '30351/.0021.scavengerhunt',\n",
       " '40303/.0022.scavengerhunt',\n",
       " '44639/.0005.scavengerhunt',\n",
       " '45525/.0018.scavengerhunt',\n",
       " '47222/.0016.scavengerhunt',\n",
       " '47222/.0024.scavengerhunt',\n",
       " '47830/.0010.scavengerhunt',\n",
       " '49418/.0014.scavengerhunt',\n",
       " '50896/.0011.scavengerhunt',\n",
       " '55417/.0023.scavengerhunt',\n",
       " '55685/.0020.scavengerhunt',\n",
       " '60224/.0003.scavengerhunt',\n",
       " '68848/.0004.scavengerhunt',\n",
       " '70751/.0019.scavengerhunt',\n",
       " '70985/.0017.scavengerhunt',\n",
       " '88596/.0002.scavengerhunt',\n",
       " '89338/.0013.scavengerhunt',\n",
       " '91701/.0015.scavengerhunt',\n",
       " '97881/.0009.scavengerhunt',\n",
       " '98750/.0001.scavengerhunt']"
      ]
     },
     "execution_count": 44,
     "metadata": {},
     "output_type": "execute_result"
    }
   ],
   "source": [
    "paths = list()\n",
    "\n",
    "for contenido in contents:\n",
    "    if contenido.path != '.gitignore':\n",
    "        carpeta = repo.get_contents(contenido.path)\n",
    "        for elemento in carpeta:\n",
    "            if elemento.path.endswith('.scavengerhunt'):\n",
    "                paths.append(elemento.path)\n",
    "\n",
    "paths"
   ]
  },
  {
   "cell_type": "code",
   "execution_count": 47,
   "metadata": {},
   "outputs": [
    {
     "data": {
      "text/plain": [
       "['98750/.0001.scavengerhunt',\n",
       " '88596/.0002.scavengerhunt',\n",
       " '60224/.0003.scavengerhunt',\n",
       " '68848/.0004.scavengerhunt',\n",
       " '44639/.0005.scavengerhunt',\n",
       " '15024/.0006.scavengerhunt',\n",
       " '17020/.0007.scavengerhunt',\n",
       " '15534/.0008.scavengerhunt',\n",
       " '97881/.0009.scavengerhunt',\n",
       " '47830/.0010.scavengerhunt',\n",
       " '50896/.0011.scavengerhunt',\n",
       " '15534/.0012.scavengerhunt',\n",
       " '89338/.0013.scavengerhunt',\n",
       " '49418/.0014.scavengerhunt',\n",
       " '91701/.0015.scavengerhunt',\n",
       " '47222/.0016.scavengerhunt',\n",
       " '70985/.0017.scavengerhunt',\n",
       " '45525/.0018.scavengerhunt',\n",
       " '70751/.0019.scavengerhunt',\n",
       " '55685/.0020.scavengerhunt',\n",
       " '30351/.0021.scavengerhunt',\n",
       " '40303/.0022.scavengerhunt',\n",
       " '55417/.0023.scavengerhunt',\n",
       " '47222/.0024.scavengerhunt']"
      ]
     },
     "execution_count": 47,
     "metadata": {},
     "output_type": "execute_result"
    }
   ],
   "source": [
    "paths = sorted(paths, key = lambda x: re.findall(\"\\..*\",x))\n",
    "paths"
   ]
  },
  {
   "cell_type": "code",
   "execution_count": 80,
   "metadata": {},
   "outputs": [
    {
     "data": {
      "text/plain": [
       "[b'In',\n",
       " b'data',\n",
       " b'science,',\n",
       " b'80',\n",
       " b'percent',\n",
       " b'of',\n",
       " b'time',\n",
       " b'spent',\n",
       " b'is',\n",
       " b'preparing',\n",
       " b'data,',\n",
       " b'20',\n",
       " b'percent',\n",
       " b'of',\n",
       " b'time',\n",
       " b'is',\n",
       " b'spent',\n",
       " b'complaining',\n",
       " b'about',\n",
       " b'the',\n",
       " b'need',\n",
       " b'to',\n",
       " b'prepare',\n",
       " b'data.']"
      ]
     },
     "execution_count": 80,
     "metadata": {},
     "output_type": "execute_result"
    }
   ],
   "source": [
    "decoded = list()\n",
    "\n",
    "for ruta in paths:\n",
    "    contenido = repo.get_contents(ruta)\n",
    "    result = contenido.decoded_content.strip()\n",
    "    decoded.append(result)\n",
    "\n",
    "decoded"
   ]
  },
  {
   "cell_type": "code",
   "execution_count": 84,
   "metadata": {},
   "outputs": [
    {
     "data": {
      "text/plain": [
       "'In data science, 80 percent of time spent is preparing data, 20 percent of time is spent complaining about the need to prepare data.'"
      ]
     },
     "execution_count": 84,
     "metadata": {},
     "output_type": "execute_result"
    }
   ],
   "source": [
    "hidden = ' '.join([str(element.decode('utf-8')) for element in decoded])\n",
    "hidden"
   ]
  }
 ],
 "metadata": {
  "kernelspec": {
   "display_name": "Python 3",
   "language": "python",
   "name": "python3"
  },
  "language_info": {
   "codemirror_mode": {
    "name": "ipython",
    "version": 3
   },
   "file_extension": ".py",
   "mimetype": "text/x-python",
   "name": "python",
   "nbconvert_exporter": "python",
   "pygments_lexer": "ipython3",
   "version": "3.8.3"
  }
 },
 "nbformat": 4,
 "nbformat_minor": 4
}
